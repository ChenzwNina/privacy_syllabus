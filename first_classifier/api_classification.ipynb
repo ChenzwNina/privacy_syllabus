{
 "cells": [
  {
   "cell_type": "code",
   "execution_count": 13,
   "id": "400ec755-5433-46aa-a61b-dd22080cbb6f",
   "metadata": {},
   "outputs": [],
   "source": [
    "#Import file\n",
    "\n",
    "from openai import OpenAI\n",
    "import pandas as pd\n",
    "import tqdm\n",
    "import json\n",
    "import unicodedata\n",
    "import re\n",
    "client = OpenAI(api_key=\"\") #API key here\n",
    "\n",
    "\n",
    "# File path, upload the file\n",
    "file_path = '/Users/ninachen/Desktop/Privacy_Project/privacy_API_code/test_case_1_new.xlsx'\n",
    "output_file_path = '/Users/ninachen/Desktop/test_case_1_classification.xlsx'\n",
    "\n",
    "# Read and select columns\n",
    "info_privacy_df_content_label = pd.read_excel(file_path)\n",
    "paragraphs_with_keyword_content_label = info_privacy_df_content_label['paragraphs_with_keyword']\n",
    "paragraphs_with_keyword_content_page = info_privacy_df_content_label['page_num_with_keyword']\n",
    "material_ID = info_privacy_df_content_label['ID']"
   ]
  },
  {
   "cell_type": "code",
   "execution_count": 2,
   "id": "edf5906a-3bed-4c0a-b3ef-9a0546a05a01",
   "metadata": {},
   "outputs": [],
   "source": [
    "def normalize_text(text):\n",
    "    text = text.lower()\n",
    "    text = re.sub(r'\\s+', ' ', text)\n",
    "    # text = re.sub(r'[^\\w\\s]', '', text)  # Remove punctuation\n",
    "    text = unicodedata.normalize('NFD', text).encode('ascii', 'ignore').decode('utf-8')\n",
    "    return text"
   ]
  },
  {
   "cell_type": "code",
   "execution_count": 3,
   "id": "7cb75687-b2d0-410f-ac41-1c0e963aa9bb",
   "metadata": {},
   "outputs": [],
   "source": [
    "#Varibale Control\n",
    "\n",
    "#Normalize text\n",
    "normalize = True\n",
    "\n",
    "#How many times it will run\n",
    "times = 3\n",
    "\n",
    "#Verification times\n",
    "verifier_times = 1\n",
    "\n",
    "#ChatGPT model version\n",
    "model_version = \"gpt-3.5-turbo\"\n",
    "\n",
    "#ChatGPT verifier model version\n",
    "verifier_model_version = \"gpt-3.5-turbo\"\n",
    "\n",
    "#Verifier On\n",
    "verification = True\n",
    "\n",
    "#Way to decide: consistency or majority\n",
    "consistency = True\n"
   ]
  },
  {
   "cell_type": "code",
   "execution_count": 4,
   "id": "b4ccba0e-084e-472a-86ed-c5303197d71e",
   "metadata": {},
   "outputs": [],
   "source": [
    "def prompt_instru():\n",
    "    #single rationale input and output\n",
    "    definition = \"\"\"\n",
    "        Below is privacy-related content, and a content sent from a user to privacy expert.\n",
    "        Your task is to classify the content into one or more of the following categories:\n",
    "        definition, risk, protection and other.\n",
    "        \n",
    "        \"Definition. \n",
    "        When considering the definition category, check if the content meets any of the following aspects. Meeting any of them qualifies it for the definition category. No indication is needed for analysis.\n",
    "        - The content metions the key aspects of privacy and describes what they are.\n",
    "        - The content mentions perspectives on privacy understanding, and describes what the perspective is. \n",
    "        - The content provides an explanation or definition of what privacy means and describes what it is. \n",
    "        - The content mentions an evolution of privacy concepts and describes the concept.\n",
    "        - The content mentions the fundamental principles or theories related to privacy and describes the principles or theories. \n",
    "        - The content distinguishes between different types of privacy and explains differences.\"\n",
    "        \n",
    "        \"Risk.\n",
    "        When considering the risk category, check if the content meets any of the following aspects. Meeting any of them qualifies it for the risk category. No indication is needed for analysis.\n",
    "        - The content mentions the consequences or results of privacy violations, privacy failure or data leakage. \n",
    "        - The content mentions that a situation, system or a practice are inadequate or have vulnerabilities related to privacy.\n",
    "        - The content identifies specific vulnerabilities in systems or processes that could be exploited to breach privacy.\n",
    "        - The content mentions vulnerabilities that can cause excessive or sensitive data collection.\n",
    "        - The content describes actions that may lead to privacy violations or harm, and it explicitly details the resulting harm.\"\n",
    "        \n",
    "        \"Protection.\n",
    "        When considering the protection category, check if the content meets any of the following aspects. Meeting any of them qualifies it for the protection category. No indication is needed for analysis.\n",
    "        - The content mentions an action, effort, or regulation that can better protect privacy, for example, better meeting privacy requirements, protect users' data and information.\n",
    "        - The content mentions a privacy-related law.\n",
    "        - The content mentions a method for users' data to be safeguarded or secured. \n",
    "        - The content mentions a method that can reduce or mitigate privacy risks, such as encryption, limited acess, anonymity etc.\n",
    "        - The content mentions an action or requirement mandated by privacy-related law. \n",
    "        - The content mentions that something is a prerequisite for privacy protection.\"\n",
    "        \n",
    "        \"Other.\n",
    "        Meeting any of them qualifies it for the other category. No indication is needed for analysis.\n",
    "        - If it doesn't talk about privacy definition, privacy protection, privacy risk, then it belongs to the other type. \n",
    "        - If the content resembles a book preface, summary, introduction, or catalog, classify it as other.\"\n",
    "        \"\"\"\n",
    "\n",
    "    prompt_example = \"\"\"\n",
    "        Here are some examples:\n",
    "        1.\n",
    "         {'Content': 'There are three key aspects of privacy:\\n■  Freedom from intrusion—being left alone\\n■  Control of information about oneself\\n■  Freedom from surveillance (from being followed, tracked, watched, and eaves- dropped upon)',\n",
    "          'Rationale': 'The paragraph mentions composition of privacy, so it is classified as privacy definition.',\n",
    "          'Category': 'Definition'},\n",
    "        2.\n",
    "         {'Content': 'Contrast this view with descriptions of privacy as something that can be intruded upon or invaded, where privacy can be understood in terms of a spatial metaphor, such as a zone, that deserves protection. ',\n",
    "          'Rationale': 'The paragraph mentions how privacy can be understood and the descriptions of privacy, therefore it is classified as privacy definition.',\n",
    "          'Category': 'Definition'},\n",
    "        3.\n",
    "         {'Content': 'Indirect prompting could be leveraged to exfiltrate users’ data (e.g., credentials, personal information) or leak users’ chat sessions. This can be done in interactive chat sessions by persuading users to disclose their data or indirectly via side channels',\n",
    "          'Rationale': \"The paragraph mentions the harm of indirect prompting on users' data. Exfiltrating and leaking chat sessions are privacy violations, thus classified as privacy risk.\",\n",
    "          'Category': 'Risk'},\n",
    "        4.\n",
    "         {'Content': 'In particular, the standard practice of ingesting as much NLP data as possible—including from potentially untrusted public sources—exposes fundamental vulnerabilities ranging from data poisoning to privacy.',\n",
    "          'Rationale': 'The paragraph mentions a vulnerability in a practice and directly links it to privacy. Therefore, it is classified as a privacy risk.',\n",
    "          'Category': 'Risk'},\n",
    "        5.\n",
    "         {'Content': 'Offer a way for people to opt out from mailing lists, advertising, and other secondary uses. Offer a way for people to opt out from features and services that expose personal information.',\n",
    "          'Rationale': 'It suggests a way for users to reduce personal information exposure, which is considered as solution to protect privacy.',\n",
    "          'Category': 'Protection'},\n",
    "        6.\n",
    "         {'Content': 'Ensures data minimization. The central server only observes anonymous identifiers of COVID-19 positive users without any proximity information. Health authorities learn no information except that provided when a user reaches out to them after being notified.',\n",
    "          'Rationale': 'It mentions a method to avoid proximity information and the possibiltiy of information learned by authorities, which protects user privacy. Therefore, it is considered as privacy solution.',\n",
    "          'Category': 'Protection'},\n",
    "        7.\n",
    "         {'Content': 'Record sanctions and fines, new regulations, and stunning court decisions have converged to mandate heightened controls \\nand accountability from government regulators, industry and standards groups as well as the public..When combined with the volume of data, information privacy, security, protection of trade secrets, and records compliance become complex and critical, high-risk business issues that only executive management can truly fix.',\n",
    "          'Rationale': \"In the first sentence, this mentions government regulation is necessary but it does not mention if this is for privacy. In the second sentence, it mentions the records compliance can be difficult because of multiple aspects including privacy, but it doesn't mention the purpose of the compliance is for privacy. Therefore, the content does not meet any criteria of the risk, protection, definition categories. It belongs to other.\",\n",
    "          'Category': 'Other'},\n",
    "        8.\n",
    "         {'Content': 'Failure to meet them can literally put an organization out of business or land executives in prison..Privacy,\\nsecurity, records management, information technology (IT), and business manage-\\nment functions are important—very important—but the most signifi cant aspect of all\\nof these functions relates to legality and regulatory compliance.',\n",
    "          'Rationale': \"The first sentence mentions a consequence but it is not clear what is the cause of the consequence, therefore it is hard to judge whether this is related to privacy or not. The second sentence mentions privacy and other things are important, especially in an area. But it doesn't talk about definition, risk or protection. Therefore, it belongs to other.\",\n",
    "          'Category': 'Other'}\n",
    "        Return a single json format with two fields: \"Rationale\" and \"Category\" in that order.\n",
    "            \"\"\"\n",
    "    prompt_instru_output = definition + prompt_example\n",
    "    return prompt_instru_output  "
   ]
  },
  {
   "cell_type": "code",
   "execution_count": 5,
   "id": "726841a7-bfb8-4296-9d05-f1f7242f43af",
   "metadata": {},
   "outputs": [],
   "source": [
    "#Single input\n",
    "\n",
    "def process_single_output(results, input_content, consistency, times):\n",
    "    predictions = []\n",
    "    category_list = []\n",
    "    nums = []\n",
    "    for result in results:\n",
    "        try:\n",
    "            category = eval(result)['Category']\n",
    "            category_list.append(category)\n",
    "        except:\n",
    "            try:\n",
    "                category = json.loads(result)['Category']\n",
    "                category_list.append(category)\n",
    "            except:\n",
    "                predictions.append(\"error\")\n",
    "                unsure_list.append(\"error\")\n",
    "                print(\"\\nInitial Ouput Error\")\n",
    "                return predictions\n",
    "\n",
    "    if len(category_list) == times:\n",
    "        print(\"category_list\" + str(category_list))\n",
    "        for number in range(len(category_list)):\n",
    "            if isinstance(category_list[number], list):\n",
    "                category_list[number] = sorted(category_list[number])\n",
    "            else:\n",
    "                pass\n",
    "        \n",
    "        count = {}\n",
    "        for item in category_list:\n",
    "            if isinstance(item, list):\n",
    "                item_str = str(item)  # Convert list to string for dictionary key\n",
    "            else:\n",
    "                item_str = item  # Use the item directly if it's not a list\n",
    "                \n",
    "                # Increment the count for the item\n",
    "            if item_str in count:\n",
    "                count[item_str] += 1\n",
    "            else:\n",
    "                count[item_str] = 1\n",
    "                \n",
    "        sorted_dict = sorted(count.items(), key=lambda item:item[1])\n",
    "\n",
    "        if consistency == True:\n",
    "            if sorted_dict[-1][1] == times:\n",
    "                predictions.append(sorted_dict[-1][0])\n",
    "                return predictions\n",
    "            else:\n",
    "                predictions.append(\"unsure\")\n",
    "                return predictions \n",
    "        else:\n",
    "            if sorted_dict[-1][1] > times/2:\n",
    "                predictions.append(sorted_dict[-1][0])\n",
    "                return predictions\n",
    "            else:\n",
    "                predictions.append(\"unsure\")\n",
    "                return predictions \n",
    "                          \n",
    "    else:\n",
    "        predictions.append(\"error\")\n",
    "        print(\"less than 2 output\")\n",
    "        return predictions"
   ]
  },
  {
   "cell_type": "code",
   "execution_count": 6,
   "id": "c27355eb-8fcd-4734-b4c0-20cd17a2dd7f",
   "metadata": {},
   "outputs": [],
   "source": [
    "def prompt_verifier (prediction_single):\n",
    "    prompt_final = []\n",
    "    beginning = \"You are a privacy expert responsible for determining if content matches the category definition. Below are the judgment guidelines:\"\n",
    "    definition_vq = \"Answer whether the content meets the questions with yes or no. Definition category criteria questions: \\n \\\n",
    "    1. Does the content metion the key aspects of privacy and describes what they are?\\n \\\n",
    "    2. Does the content mention perspectives on privacy understanding, and describe what the perspective is? \\n \\\n",
    "    3. Does the content provide an explanation or definition of what privacy means and describes what it is? \\n \\\n",
    "    4. Does the content mention an evolution of privacy concepts and describe the concept? \\n \\\n",
    "    5. Does the content mention the fundamental principles or theories related to privacy and describes the principles or theories?\\n \\\n",
    "    6. Does the content distinguishes between different types of privacy and explains differences?\"\n",
    "        \n",
    "    risk_vq = \"Answer whether the content meets the questions with yes or no. Risk category criteria questions: \\n \\\n",
    "    1. Does the content mention the consequences or results of privacy violations, privacy failure or data leakage? \\n \\\n",
    "    2. Does the content mention that a situation, system or a practice are inadequate or have vulnerabilities related to privacy?\\n \\\n",
    "    3. Does the content identify specific vulnerabilities in systems or processes that could be exploited to breach privacy? \\n \\\n",
    "    4. Does the content mention vulnerabilities that can cause excessive or sensitive data collection? \\n \\\n",
    "    5. Does the content describe actions that may lead to privacy violations or harm, and it explicitly details the resulting harm?\"\n",
    "\n",
    "    protection_vq = \"Answer whether the content meets the questions with yes or no. Protection category criteria questions: \\n \\\n",
    "    1. Does the content mention an action, effort, or regulation that can better protect privacy, for example, better meeting privacy requirements, protect users' data and information?\\n \\\n",
    "    2. Does the content mention a privacy-related law?\\n \\\n",
    "    3. Does the content mention a method for users' data to be safeguarded or secured?\\n \\\n",
    "    4. Does the content mention a method that can reduce or mitigate privacy risks, such as encryption, limited acess, anonymity etc?\\n \\\n",
    "    5. Does the content mention an action or requirement mandated by privacy-related law?\\n \\\n",
    "    6. Does the content mention that something is a prerequisite for privacy protection?\"\n",
    "\n",
    "    other_vq = \"Answer whether the content meets the questions with yes or no. Other category critera questions:\\n \\\n",
    "    1. Does the content metion the key aspects of privacy and describes what they are?\\n \\\n",
    "    2. Does the content mention perspectives on privacy understanding, and describe what the perspective is? \\n \\\n",
    "    3. Does the content provide an explanation or definition of what privacy means and describes what it is? \\n \\\n",
    "    4. Does the content mention an evolution of privacy concepts and describe the concept? \\n \\\n",
    "    5. Does the content mention the fundamental principles or theories related to privacy and describes the principles or theories?\\n \\\n",
    "    6. Does the content distinguishes between different types of privacy and explains differences?\\n \\\n",
    "    7. Does the content mention the consequences or results of privacy violations, privacy failure or data leakage? \\n \\\n",
    "    8. Does the content mention that a situation, system or a practice are inadequate or have vulnerabilities related to privacy?\\n \\\n",
    "    9. Does the content identify specific vulnerabilities in systems or processes that could be exploited to breach privacy? \\n \\\n",
    "    10. Does the content mention vulnerabilities that can cause excessive or sensitive data collection? \\n \\\n",
    "    11. Does the content describe actions that may lead to privacy violations or harm, and it explicitly details the resulting harm?\\n \\\n",
    "    12. Does the content mention an action, effort, or regulation that can better protect privacy, for example, better meeting privacy requirements, protect users' data and information?\\n \\\n",
    "    13. Does the content mention a privacy-related law?\\n \\\n",
    "    14. Does the content mention a method for users' data to be safeguarded or secured?\\n \\\n",
    "    15. Does the content mention a method that can reduce or mitigate privacy risks, such as encryption, limited acess, anonymity etc?\\n \\\n",
    "    16. Does the content mention an action or requirement mandated by privacy-related law?\\n \\\n",
    "    17. Does the content mention that something is a prerequisite for privacy protection?\"\n",
    "    \n",
    "    ending = \"Return a single json dictionary format with one fields: 'List'. Put 'yes' or 'no' for each criteria question into the 'List'. Example format: {'List': ['yes', 'yes', 'no']}.\"\n",
    "\n",
    "    prompt_list = []\n",
    "    for category in prediction_single:\n",
    "        normalized_string = category.lower()\n",
    "        if normalized_string == \"definition\":\n",
    "            prompt = beginning + definition_vq + ending\n",
    "            prompt_list.append(prompt)\n",
    "        \n",
    "        elif normalized_string == \"risk\":\n",
    "            prompt = beginning + risk_vq + ending\n",
    "            prompt_list.append(prompt)\n",
    "\n",
    "        elif normalized_string == \"protection\":\n",
    "            prompt = beginning + protection_vq + ending\n",
    "            prompt_list.append(prompt)\n",
    "        \n",
    "        elif normalized_string == \"other\":\n",
    "            prompt = beginning + other_vq + ending\n",
    "            prompt_list.append(prompt)\n",
    "        else:\n",
    "            prompt_list.append(\"error\")\n",
    "    return prompt_list\n"
   ]
  },
  {
   "cell_type": "code",
   "execution_count": 7,
   "id": "96a5f19d-066f-49a5-809c-396d4a9fff6e",
   "metadata": {},
   "outputs": [],
   "source": [
    "#Verifier final judgements\n",
    "\n",
    "def verifier_final_result(index, verification_result):\n",
    "    final_judgement = []\n",
    "    normalized_answer = prediction_single[index]\n",
    "    parse_fail = 0\n",
    "    \n",
    "    try:\n",
    "        verification_dict = eval(verification_result[0])\n",
    "    except:\n",
    "        judgement = False\n",
    "        final_judgement.append(judgement)\n",
    "        \n",
    "    print(\"verification_dict\"+str(verification_dict))\n",
    "    if normalized_answer.lower() == \"other\":\n",
    "        if any(answer == \"yes\" for answer in verification_dict['List']):\n",
    "            judgement = False\n",
    "            final_judgement.append(judgement)\n",
    "        else:\n",
    "            judgement = True\n",
    "            final_judgement.append(judgement)\n",
    "            \n",
    "    else:\n",
    "        if any(answer == \"yes\" for answer in verification_dict['List']):\n",
    "            judgement = True\n",
    "            final_judgement.append(judgement)\n",
    "        else:\n",
    "            judgement = False\n",
    "            final_judgement.append(judgement)\n",
    "    return final_judgement"
   ]
  },
  {
   "cell_type": "code",
   "execution_count": 8,
   "id": "de96c889-3674-49d3-9a9a-6c121a5e0e0e",
   "metadata": {},
   "outputs": [],
   "source": [
    "#Verifier\n",
    "\n",
    "def verification_process(prediction_single, verifier_model_version, input_content):\n",
    "    print(\"--------Start Verification--------\")\n",
    "    output_verify_predication = []\n",
    "    prediction_second = []\n",
    "    for index, verification_q in enumerate(prompt_verifier(prediction_single)):\n",
    "        verification_result = []\n",
    "        if verification_q != \"error\":\n",
    "            completion = client.chat.completions.create(\n",
    "                    model= verifier_model_version,\n",
    "                    messages=[\n",
    "                  # System Prompt, see https://platform.openai.com/docs/guides/text-generation/chat-completions-api\n",
    "                  {\"role\": \"system\", \"content\": verification_q},\n",
    "                  {\"role\": \"user\", \"content\": \"Does the category match the content (yes or no only)? {'Content': \" + input_content +\"}, {'Category':\"+str(prediction_single[index])}\n",
    "                    ],\n",
    "                    temperature = 0.7\n",
    "                )\n",
    "            verification_result.append(completion.choices[0].message.content)\n",
    "            print(\"verification_result\"+str(verification_result))\n",
    "\n",
    "            final_decisions = verifier_final_result(index, verification_result)\n",
    "            print(\"final decisions\" +str(final_decisions))\n",
    "            if any(decision == False for decision in final_decisions):\n",
    "                prediction_second.append(\"unsure\")\n",
    "                print(\"Fail verification\")\n",
    "            else:\n",
    "                prediction_second.append(prediction_single[index])\n",
    "        else:\n",
    "            prediction_second.append(\"error\")\n",
    "    for item in prediction_second:\n",
    "        if item == \"error\":\n",
    "            output_verify_predication = [\"error\"]\n",
    "        elif item == \"unsure\":\n",
    "            output_verify_predication = [\"unsure\"]\n",
    "        else:\n",
    "            output_verify_predication = prediction_second \n",
    "    return output_verify_predication"
   ]
  },
  {
   "cell_type": "code",
   "execution_count": 9,
   "id": "d055ca5e-61a3-4f72-a058-946d4fea9643",
   "metadata": {},
   "outputs": [
    {
     "name": "stderr",
     "output_type": "stream",
     "text": [
      "  0%|                                                    | 0/40 [00:00<?, ?it/s]"
     ]
    },
    {
     "name": "stdout",
     "output_type": "stream",
     "text": [
      "category_list['Protection', 'Protection', 'Protection']\n",
      "--------Start Verification--------\n"
     ]
    },
    {
     "name": "stderr",
     "output_type": "stream",
     "text": [
      "  2%|█                                           | 1/40 [00:04<02:55,  4.51s/it]"
     ]
    },
    {
     "name": "stdout",
     "output_type": "stream",
     "text": [
      "verification_result[\"{'List': ['yes', 'no', 'yes', 'yes', 'no', 'no']}\"]\n",
      "type<class 'list'>\n",
      "verification_dict{'List': ['yes', 'no', 'yes', 'yes', 'no', 'no']}\n",
      "final decisions[True]\n",
      "Final predictions without verification['Protection']\n",
      "Final predictions with verification['Protection']\n",
      "category_list['Protection', 'Protection', 'Protection']\n",
      "--------Start Verification--------\n"
     ]
    },
    {
     "name": "stderr",
     "output_type": "stream",
     "text": [
      "  5%|██▏                                         | 2/40 [00:08<02:44,  4.33s/it]"
     ]
    },
    {
     "name": "stdout",
     "output_type": "stream",
     "text": [
      "verification_result[\"{'List': ['yes', 'no', 'yes', 'yes', 'no', 'no']}\"]\n",
      "type<class 'list'>\n",
      "verification_dict{'List': ['yes', 'no', 'yes', 'yes', 'no', 'no']}\n",
      "final decisions[True]\n",
      "Final predictions without verification['Protection']\n",
      "Final predictions with verification['Protection']\n",
      "category_list['Protection', 'Protection', 'Protection']\n",
      "--------Start Verification--------\n"
     ]
    },
    {
     "name": "stderr",
     "output_type": "stream",
     "text": [
      "  8%|███▎                                        | 3/40 [00:12<02:36,  4.22s/it]"
     ]
    },
    {
     "name": "stdout",
     "output_type": "stream",
     "text": [
      "verification_result[\"{'List': ['yes', 'no', 'yes', 'yes', 'no', 'no']}\"]\n",
      "type<class 'list'>\n",
      "verification_dict{'List': ['yes', 'no', 'yes', 'yes', 'no', 'no']}\n",
      "final decisions[True]\n",
      "Final predictions without verification['Protection']\n",
      "Final predictions with verification['Protection']\n",
      "category_list['Risk', 'Risk', 'Risk']\n",
      "--------Start Verification--------\n"
     ]
    },
    {
     "name": "stderr",
     "output_type": "stream",
     "text": [
      " 10%|████▍                                       | 4/40 [00:17<02:34,  4.29s/it]"
     ]
    },
    {
     "name": "stdout",
     "output_type": "stream",
     "text": [
      "verification_result[\"{'List': ['yes', 'yes', 'yes', 'yes', 'yes']}\"]\n",
      "type<class 'list'>\n",
      "verification_dict{'List': ['yes', 'yes', 'yes', 'yes', 'yes']}\n",
      "final decisions[True]\n",
      "Final predictions without verification['Risk']\n",
      "Final predictions with verification['Risk']\n",
      "category_list['Definition', 'Definition', 'Definition']\n",
      "--------Start Verification--------\n"
     ]
    },
    {
     "name": "stderr",
     "output_type": "stream",
     "text": [
      " 12%|█████▌                                      | 5/40 [00:21<02:34,  4.41s/it]"
     ]
    },
    {
     "name": "stdout",
     "output_type": "stream",
     "text": [
      "verification_result[\"{'List': ['no', 'no', 'no', 'no', 'no', 'no']}\"]\n",
      "type<class 'list'>\n",
      "verification_dict{'List': ['no', 'no', 'no', 'no', 'no', 'no']}\n",
      "final decisions[False]\n",
      "Fail verification\n",
      "Final predictions without verification['Definition']\n",
      "Final predictions with verification['unsure']\n",
      "category_list['Protection', 'Protection', 'Protection']\n",
      "--------Start Verification--------\n"
     ]
    },
    {
     "name": "stderr",
     "output_type": "stream",
     "text": [
      " 15%|██████▌                                     | 6/40 [00:27<02:43,  4.80s/it]"
     ]
    },
    {
     "name": "stdout",
     "output_type": "stream",
     "text": [
      "verification_result[\"{'List': ['no', 'no', 'yes', 'yes', 'no', 'no']}\"]\n",
      "type<class 'list'>\n",
      "verification_dict{'List': ['no', 'no', 'yes', 'yes', 'no', 'no']}\n",
      "final decisions[True]\n",
      "Final predictions without verification['Protection']\n",
      "Final predictions with verification['Protection']\n",
      "category_list['Protection', 'Protection', 'Protection']\n",
      "--------Start Verification--------\n"
     ]
    },
    {
     "name": "stderr",
     "output_type": "stream",
     "text": [
      " 18%|███████▋                                    | 7/40 [00:30<02:20,  4.26s/it]"
     ]
    },
    {
     "name": "stdout",
     "output_type": "stream",
     "text": [
      "verification_result[\"{'List': ['yes', 'yes', 'no', 'no', 'yes', 'no']}\"]\n",
      "type<class 'list'>\n",
      "verification_dict{'List': ['yes', 'yes', 'no', 'no', 'yes', 'no']}\n",
      "final decisions[True]\n",
      "Final predictions without verification['Protection']\n",
      "Final predictions with verification['Protection']\n",
      "category_list['Protection', 'Protection', 'Protection']\n",
      "--------Start Verification--------\n"
     ]
    },
    {
     "name": "stderr",
     "output_type": "stream",
     "text": [
      " 20%|████████▊                                   | 8/40 [00:34<02:10,  4.09s/it]"
     ]
    },
    {
     "name": "stdout",
     "output_type": "stream",
     "text": [
      "verification_result[\"{'List': ['yes', 'no', 'yes', 'yes', 'no', 'no']}\"]\n",
      "type<class 'list'>\n",
      "verification_dict{'List': ['yes', 'no', 'yes', 'yes', 'no', 'no']}\n",
      "final decisions[True]\n",
      "Final predictions without verification['Protection']\n",
      "Final predictions with verification['Protection']\n",
      "category_list['Protection', 'Protection', 'Protection']\n",
      "--------Start Verification--------\n"
     ]
    },
    {
     "name": "stderr",
     "output_type": "stream",
     "text": [
      " 22%|█████████▉                                  | 9/40 [00:38<02:05,  4.05s/it]"
     ]
    },
    {
     "name": "stdout",
     "output_type": "stream",
     "text": [
      "verification_result[\"{'List': ['yes', 'no', 'yes', 'yes', 'no', 'no']}\"]\n",
      "type<class 'list'>\n",
      "verification_dict{'List': ['yes', 'no', 'yes', 'yes', 'no', 'no']}\n",
      "final decisions[True]\n",
      "Final predictions without verification['Protection']\n",
      "Final predictions with verification['Protection']\n",
      "category_list['Protection', 'Protection', 'Protection']\n",
      "--------Start Verification--------\n"
     ]
    },
    {
     "name": "stderr",
     "output_type": "stream",
     "text": [
      " 25%|██████████▊                                | 10/40 [00:41<01:58,  3.93s/it]"
     ]
    },
    {
     "name": "stdout",
     "output_type": "stream",
     "text": [
      "verification_result[\"{'List': ['no', 'no', 'yes', 'yes', 'no', 'no']}\"]\n",
      "type<class 'list'>\n",
      "verification_dict{'List': ['no', 'no', 'yes', 'yes', 'no', 'no']}\n",
      "final decisions[True]\n",
      "Final predictions without verification['Protection']\n",
      "Final predictions with verification['Protection']\n",
      "category_list['Protection', 'Protection', 'Protection']\n",
      "--------Start Verification--------\n"
     ]
    },
    {
     "name": "stderr",
     "output_type": "stream",
     "text": [
      " 28%|███████████▊                               | 11/40 [00:51<02:43,  5.64s/it]"
     ]
    },
    {
     "name": "stdout",
     "output_type": "stream",
     "text": [
      "verification_result[\"{'List': ['no', 'no', 'yes', 'yes', 'no', 'no']}\"]\n",
      "type<class 'list'>\n",
      "verification_dict{'List': ['no', 'no', 'yes', 'yes', 'no', 'no']}\n",
      "final decisions[True]\n",
      "Final predictions without verification['Protection']\n",
      "Final predictions with verification['Protection']\n",
      "category_list['Protection', 'Protection', 'Protection']\n",
      "--------Start Verification--------\n"
     ]
    },
    {
     "name": "stderr",
     "output_type": "stream",
     "text": [
      " 30%|████████████▉                              | 12/40 [00:55<02:27,  5.27s/it]"
     ]
    },
    {
     "name": "stdout",
     "output_type": "stream",
     "text": [
      "verification_result[\"{'List': ['yes', 'no', 'yes', 'yes', 'no', 'yes']}\"]\n",
      "type<class 'list'>\n",
      "verification_dict{'List': ['yes', 'no', 'yes', 'yes', 'no', 'yes']}\n",
      "final decisions[True]\n",
      "Final predictions without verification['Protection']\n",
      "Final predictions with verification['Protection']\n"
     ]
    },
    {
     "name": "stderr",
     "output_type": "stream",
     "text": [
      " 32%|█████████████▉                             | 13/40 [00:59<02:10,  4.82s/it]"
     ]
    },
    {
     "name": "stdout",
     "output_type": "stream",
     "text": [
      "category_list['Other', 'Protection', 'Protection']\n",
      "Final predictions without verification['unsure']\n",
      "Final predictions with verification['unsure']\n",
      "category_list['Protection', 'Protection', 'Protection']\n",
      "--------Start Verification--------\n"
     ]
    },
    {
     "name": "stderr",
     "output_type": "stream",
     "text": [
      " 35%|███████████████                            | 14/40 [01:03<01:59,  4.60s/it]"
     ]
    },
    {
     "name": "stdout",
     "output_type": "stream",
     "text": [
      "verification_result[\"{'List': ['yes', 'no', 'yes', 'yes', 'no', 'no']}\"]\n",
      "type<class 'list'>\n",
      "verification_dict{'List': ['yes', 'no', 'yes', 'yes', 'no', 'no']}\n",
      "final decisions[True]\n",
      "Final predictions without verification['Protection']\n",
      "Final predictions with verification['Protection']\n",
      "category_list['Protection', 'Protection', 'Protection']\n",
      "--------Start Verification--------\n"
     ]
    },
    {
     "name": "stderr",
     "output_type": "stream",
     "text": [
      " 38%|████████████████▏                          | 15/40 [01:06<01:44,  4.20s/it]"
     ]
    },
    {
     "name": "stdout",
     "output_type": "stream",
     "text": [
      "verification_result[\"{'List': ['yes', 'no', 'yes', 'yes', 'no', 'yes']}\"]\n",
      "type<class 'list'>\n",
      "verification_dict{'List': ['yes', 'no', 'yes', 'yes', 'no', 'yes']}\n",
      "final decisions[True]\n",
      "Final predictions without verification['Protection']\n",
      "Final predictions with verification['Protection']\n",
      "category_list['Protection', 'Protection', 'Protection']\n",
      "--------Start Verification--------\n"
     ]
    },
    {
     "name": "stderr",
     "output_type": "stream",
     "text": [
      " 40%|█████████████████▏                         | 16/40 [01:10<01:37,  4.08s/it]"
     ]
    },
    {
     "name": "stdout",
     "output_type": "stream",
     "text": [
      "verification_result[\"{'List': ['yes', 'no', 'yes', 'yes', 'no', 'no']}\"]\n",
      "type<class 'list'>\n",
      "verification_dict{'List': ['yes', 'no', 'yes', 'yes', 'no', 'no']}\n",
      "final decisions[True]\n",
      "Final predictions without verification['Protection']\n",
      "Final predictions with verification['Protection']\n",
      "category_list['Definition', 'Definition', 'Definition']\n",
      "--------Start Verification--------\n"
     ]
    },
    {
     "name": "stderr",
     "output_type": "stream",
     "text": [
      " 42%|██████████████████▎                        | 17/40 [01:15<01:35,  4.14s/it]"
     ]
    },
    {
     "name": "stdout",
     "output_type": "stream",
     "text": [
      "verification_result[\"{'List': ['no', 'no', 'no', 'no', 'no', 'no']}\"]\n",
      "type<class 'list'>\n",
      "verification_dict{'List': ['no', 'no', 'no', 'no', 'no', 'no']}\n",
      "final decisions[False]\n",
      "Fail verification\n",
      "Final predictions without verification['Definition']\n",
      "Final predictions with verification['unsure']\n",
      "category_list['Protection', 'Protection', 'Protection']\n",
      "--------Start Verification--------\n"
     ]
    },
    {
     "name": "stderr",
     "output_type": "stream",
     "text": [
      " 45%|███████████████████▎                       | 18/40 [01:18<01:29,  4.07s/it]"
     ]
    },
    {
     "name": "stdout",
     "output_type": "stream",
     "text": [
      "verification_result[\"{'List': ['no', 'no', 'yes', 'yes', 'no', 'no']}\"]\n",
      "type<class 'list'>\n",
      "verification_dict{'List': ['no', 'no', 'yes', 'yes', 'no', 'no']}\n",
      "final decisions[True]\n",
      "Final predictions without verification['Protection']\n",
      "Final predictions with verification['Protection']\n",
      "category_list['Protection', 'Protection', 'Protection']\n",
      "--------Start Verification--------\n"
     ]
    },
    {
     "name": "stderr",
     "output_type": "stream",
     "text": [
      " 48%|████████████████████▍                      | 19/40 [01:27<01:54,  5.46s/it]"
     ]
    },
    {
     "name": "stdout",
     "output_type": "stream",
     "text": [
      "verification_result[\"{'List': ['yes', 'no', 'yes', 'yes', 'no', 'no']}\"]\n",
      "type<class 'list'>\n",
      "verification_dict{'List': ['yes', 'no', 'yes', 'yes', 'no', 'no']}\n",
      "final decisions[True]\n",
      "Final predictions without verification['Protection']\n",
      "Final predictions with verification['Protection']\n",
      "category_list['Protection', 'Protection', 'Protection']\n",
      "--------Start Verification--------\n"
     ]
    },
    {
     "name": "stderr",
     "output_type": "stream",
     "text": [
      " 50%|█████████████████████▌                     | 20/40 [01:30<01:35,  4.79s/it]"
     ]
    },
    {
     "name": "stdout",
     "output_type": "stream",
     "text": [
      "verification_result[\"{'List': ['yes', 'no', 'yes', 'yes', 'no', 'no']}\"]\n",
      "type<class 'list'>\n",
      "verification_dict{'List': ['yes', 'no', 'yes', 'yes', 'no', 'no']}\n",
      "final decisions[True]\n",
      "Final predictions without verification['Protection']\n",
      "Final predictions with verification['Protection']\n",
      "category_list['Protection', 'Protection', 'Protection']\n",
      "--------Start Verification--------\n"
     ]
    },
    {
     "name": "stderr",
     "output_type": "stream",
     "text": [
      " 52%|██████████████████████▌                    | 21/40 [01:35<01:31,  4.79s/it]"
     ]
    },
    {
     "name": "stdout",
     "output_type": "stream",
     "text": [
      "verification_result[\"{'List': ['yes', 'no', 'yes', 'yes', 'no', 'yes']}\"]\n",
      "type<class 'list'>\n",
      "verification_dict{'List': ['yes', 'no', 'yes', 'yes', 'no', 'yes']}\n",
      "final decisions[True]\n",
      "Final predictions without verification['Protection']\n",
      "Final predictions with verification['Protection']\n",
      "category_list['Definition', 'Definition', 'Definition']\n",
      "--------Start Verification--------\n"
     ]
    },
    {
     "name": "stderr",
     "output_type": "stream",
     "text": [
      " 55%|███████████████████████▋                   | 22/40 [01:39<01:19,  4.39s/it]"
     ]
    },
    {
     "name": "stdout",
     "output_type": "stream",
     "text": [
      "verification_result[\"{'List': ['no', 'yes', 'no', 'yes', 'no', 'no']}\"]\n",
      "type<class 'list'>\n",
      "verification_dict{'List': ['no', 'yes', 'no', 'yes', 'no', 'no']}\n",
      "final decisions[True]\n",
      "Final predictions without verification['Definition']\n",
      "Final predictions with verification['Definition']\n",
      "category_list['Protection', 'Protection', 'Protection']\n",
      "--------Start Verification--------\n"
     ]
    },
    {
     "name": "stderr",
     "output_type": "stream",
     "text": [
      " 57%|████████████████████████▋                  | 23/40 [01:42<01:11,  4.21s/it]"
     ]
    },
    {
     "name": "stdout",
     "output_type": "stream",
     "text": [
      "verification_result[\"{'List': ['no', 'no', 'yes', 'yes', 'no', 'no']}\"]\n",
      "type<class 'list'>\n",
      "verification_dict{'List': ['no', 'no', 'yes', 'yes', 'no', 'no']}\n",
      "final decisions[True]\n",
      "Final predictions without verification['Protection']\n",
      "Final predictions with verification['Protection']\n",
      "category_list['Other', 'Other', 'Other']\n",
      "--------Start Verification--------\n"
     ]
    },
    {
     "name": "stderr",
     "output_type": "stream",
     "text": [
      " 60%|█████████████████████████▊                 | 24/40 [01:52<01:32,  5.77s/it]"
     ]
    },
    {
     "name": "stdout",
     "output_type": "stream",
     "text": [
      "verification_result[\"{'List': ['yes', 'no', 'yes', 'no', 'no', 'no', 'no', 'no', 'no', 'no', 'no', 'no', 'no', 'no', 'no', 'no', 'no']}\"]\n",
      "type<class 'list'>\n",
      "verification_dict{'List': ['yes', 'no', 'yes', 'no', 'no', 'no', 'no', 'no', 'no', 'no', 'no', 'no', 'no', 'no', 'no', 'no', 'no']}\n",
      "final decisions[False]\n",
      "Fail verification\n",
      "Final predictions without verification['Other']\n",
      "Final predictions with verification['unsure']\n",
      "category_list['Definition', 'Definition', 'Definition']\n",
      "--------Start Verification--------\n"
     ]
    },
    {
     "name": "stderr",
     "output_type": "stream",
     "text": [
      " 62%|██████████████████████████▉                | 25/40 [01:56<01:18,  5.21s/it]"
     ]
    },
    {
     "name": "stdout",
     "output_type": "stream",
     "text": [
      "verification_result[\"{'List': ['yes', 'yes', 'yes', 'no', 'yes', 'no']}\"]\n",
      "type<class 'list'>\n",
      "verification_dict{'List': ['yes', 'yes', 'yes', 'no', 'yes', 'no']}\n",
      "final decisions[True]\n",
      "Final predictions without verification['Definition']\n",
      "Final predictions with verification['Definition']\n",
      "category_list['Protection', 'Protection', 'Protection']\n",
      "--------Start Verification--------\n"
     ]
    },
    {
     "name": "stderr",
     "output_type": "stream",
     "text": [
      " 65%|███████████████████████████▉               | 26/40 [02:01<01:14,  5.30s/it]"
     ]
    },
    {
     "name": "stdout",
     "output_type": "stream",
     "text": [
      "verification_result[\"{'List': ['yes', 'no', 'yes', 'yes', 'no', 'no']}\"]\n",
      "type<class 'list'>\n",
      "verification_dict{'List': ['yes', 'no', 'yes', 'yes', 'no', 'no']}\n",
      "final decisions[True]\n",
      "Final predictions without verification['Protection']\n",
      "Final predictions with verification['Protection']\n",
      "category_list['Other', 'Other', 'Other']\n",
      "--------Start Verification--------\n"
     ]
    },
    {
     "name": "stderr",
     "output_type": "stream",
     "text": [
      " 68%|█████████████████████████████              | 27/40 [02:06<01:06,  5.08s/it]"
     ]
    },
    {
     "name": "stdout",
     "output_type": "stream",
     "text": [
      "verification_result[\"{'List': ['no', 'no', 'no', 'no', 'no', 'no', 'no', 'no', 'no', 'no', 'no', 'no', 'no', 'no', 'no', 'no', 'no']}\"]\n",
      "type<class 'list'>\n",
      "verification_dict{'List': ['no', 'no', 'no', 'no', 'no', 'no', 'no', 'no', 'no', 'no', 'no', 'no', 'no', 'no', 'no', 'no', 'no']}\n",
      "final decisions[True]\n",
      "Final predictions without verification['Other']\n",
      "Final predictions with verification['Other']\n",
      "category_list['Definition', 'Definition', 'Definition']\n",
      "--------Start Verification--------\n"
     ]
    },
    {
     "name": "stderr",
     "output_type": "stream",
     "text": [
      " 70%|██████████████████████████████             | 28/40 [02:09<00:52,  4.38s/it]"
     ]
    },
    {
     "name": "stdout",
     "output_type": "stream",
     "text": [
      "verification_result[\"{'List': ['no', 'no', 'no', 'no', 'no', 'no']}\"]\n",
      "type<class 'list'>\n",
      "verification_dict{'List': ['no', 'no', 'no', 'no', 'no', 'no']}\n",
      "final decisions[False]\n",
      "Fail verification\n",
      "Final predictions without verification['Definition']\n",
      "Final predictions with verification['unsure']\n",
      "category_list['Definition', 'Definition', 'Definition']\n",
      "--------Start Verification--------\n"
     ]
    },
    {
     "name": "stderr",
     "output_type": "stream",
     "text": [
      " 72%|███████████████████████████████▏           | 29/40 [02:12<00:44,  4.08s/it]"
     ]
    },
    {
     "name": "stdout",
     "output_type": "stream",
     "text": [
      "verification_result[\"{'List': ['yes', 'no', 'yes', 'no', 'no', 'no']}\"]\n",
      "type<class 'list'>\n",
      "verification_dict{'List': ['yes', 'no', 'yes', 'no', 'no', 'no']}\n",
      "final decisions[True]\n",
      "Final predictions without verification['Definition']\n",
      "Final predictions with verification['Definition']\n",
      "category_list['Risk', 'Risk', 'Risk']\n",
      "--------Start Verification--------\n"
     ]
    },
    {
     "name": "stderr",
     "output_type": "stream",
     "text": [
      " 75%|████████████████████████████████▎          | 30/40 [02:17<00:44,  4.50s/it]"
     ]
    },
    {
     "name": "stdout",
     "output_type": "stream",
     "text": [
      "verification_result[\"{'List': ['yes', 'no', 'yes', 'no', 'no']}\"]\n",
      "type<class 'list'>\n",
      "verification_dict{'List': ['yes', 'no', 'yes', 'no', 'no']}\n",
      "final decisions[True]\n",
      "Final predictions without verification['Risk']\n",
      "Final predictions with verification['Risk']\n",
      "category_list['Risk', 'Risk', 'Risk']\n",
      "--------Start Verification--------\n"
     ]
    },
    {
     "name": "stderr",
     "output_type": "stream",
     "text": [
      " 78%|█████████████████████████████████▎         | 31/40 [02:21<00:37,  4.20s/it]"
     ]
    },
    {
     "name": "stdout",
     "output_type": "stream",
     "text": [
      "verification_result[\"{'List': ['yes', 'yes', 'yes', 'no', 'yes']}\"]\n",
      "type<class 'list'>\n",
      "verification_dict{'List': ['yes', 'yes', 'yes', 'no', 'yes']}\n",
      "final decisions[True]\n",
      "Final predictions without verification['Risk']\n",
      "Final predictions with verification['Risk']\n",
      "category_list['Risk', 'Risk', 'Risk']\n",
      "--------Start Verification--------\n"
     ]
    },
    {
     "name": "stderr",
     "output_type": "stream",
     "text": [
      " 80%|██████████████████████████████████▍        | 32/40 [02:25<00:32,  4.08s/it]"
     ]
    },
    {
     "name": "stdout",
     "output_type": "stream",
     "text": [
      "verification_result[\"{'List': ['yes', 'no', 'yes', 'no', 'yes']}\"]\n",
      "type<class 'list'>\n",
      "verification_dict{'List': ['yes', 'no', 'yes', 'no', 'yes']}\n",
      "final decisions[True]\n",
      "Final predictions without verification['Risk']\n",
      "Final predictions with verification['Risk']\n",
      "category_list['Risk', 'Risk', 'Risk']\n",
      "--------Start Verification--------\n"
     ]
    },
    {
     "name": "stderr",
     "output_type": "stream",
     "text": [
      " 82%|███████████████████████████████████▍       | 33/40 [02:28<00:27,  3.99s/it]"
     ]
    },
    {
     "name": "stdout",
     "output_type": "stream",
     "text": [
      "verification_result[\"{'List': ['yes', 'yes', 'yes', 'no', 'yes']}\"]\n",
      "type<class 'list'>\n",
      "verification_dict{'List': ['yes', 'yes', 'yes', 'no', 'yes']}\n",
      "final decisions[True]\n",
      "Final predictions without verification['Risk']\n",
      "Final predictions with verification['Risk']\n",
      "category_list['Protection', 'Protection', 'Protection']\n",
      "--------Start Verification--------\n"
     ]
    },
    {
     "name": "stderr",
     "output_type": "stream",
     "text": [
      " 85%|████████████████████████████████████▌      | 34/40 [02:33<00:24,  4.06s/it]"
     ]
    },
    {
     "name": "stdout",
     "output_type": "stream",
     "text": [
      "verification_result[\"{'List': ['no', 'no', 'no', 'no', 'no', 'no']}\"]\n",
      "type<class 'list'>\n",
      "verification_dict{'List': ['no', 'no', 'no', 'no', 'no', 'no']}\n",
      "final decisions[False]\n",
      "Fail verification\n",
      "Final predictions without verification['Protection']\n",
      "Final predictions with verification['unsure']\n",
      "category_list['Risk', 'Risk', 'Risk']\n",
      "--------Start Verification--------\n"
     ]
    },
    {
     "name": "stderr",
     "output_type": "stream",
     "text": [
      " 88%|█████████████████████████████████████▋     | 35/40 [02:36<00:18,  3.73s/it]"
     ]
    },
    {
     "name": "stdout",
     "output_type": "stream",
     "text": [
      "verification_result[\"{'List': ['no', 'no', 'no', 'no', 'no']}\"]\n",
      "type<class 'list'>\n",
      "verification_dict{'List': ['no', 'no', 'no', 'no', 'no']}\n",
      "final decisions[False]\n",
      "Fail verification\n",
      "Final predictions without verification['Risk']\n",
      "Final predictions with verification['unsure']\n",
      "category_list['Risk', 'Risk', 'Risk']\n",
      "--------Start Verification--------\n"
     ]
    },
    {
     "name": "stderr",
     "output_type": "stream",
     "text": [
      " 90%|██████████████████████████████████████▋    | 36/40 [02:39<00:14,  3.52s/it]"
     ]
    },
    {
     "name": "stdout",
     "output_type": "stream",
     "text": [
      "verification_result[\"{'List': ['yes', 'yes', 'no', 'no', 'yes']}\"]\n",
      "type<class 'list'>\n",
      "verification_dict{'List': ['yes', 'yes', 'no', 'no', 'yes']}\n",
      "final decisions[True]\n",
      "Final predictions without verification['Risk']\n",
      "Final predictions with verification['Risk']\n",
      "category_list['Risk', 'Risk', 'Risk']\n",
      "--------Start Verification--------\n"
     ]
    },
    {
     "name": "stderr",
     "output_type": "stream",
     "text": [
      " 92%|███████████████████████████████████████▊   | 37/40 [02:42<00:10,  3.52s/it]"
     ]
    },
    {
     "name": "stdout",
     "output_type": "stream",
     "text": [
      "verification_result[\"{'List': ['yes', 'no', 'yes', 'no', 'yes']}\"]\n",
      "type<class 'list'>\n",
      "verification_dict{'List': ['yes', 'no', 'yes', 'no', 'yes']}\n",
      "final decisions[True]\n",
      "Final predictions without verification['Risk']\n",
      "Final predictions with verification['Risk']\n",
      "category_list['Risk', 'Risk', 'Risk']\n",
      "--------Start Verification--------\n"
     ]
    },
    {
     "name": "stderr",
     "output_type": "stream",
     "text": [
      " 95%|████████████████████████████████████████▊  | 38/40 [02:45<00:06,  3.41s/it]"
     ]
    },
    {
     "name": "stdout",
     "output_type": "stream",
     "text": [
      "verification_result[\"{'List': ['yes', 'no', 'no', 'no', 'yes']}\"]\n",
      "type<class 'list'>\n",
      "verification_dict{'List': ['yes', 'no', 'no', 'no', 'yes']}\n",
      "final decisions[True]\n",
      "Final predictions without verification['Risk']\n",
      "Final predictions with verification['Risk']\n",
      "category_list['Risk', 'Risk', 'Risk']\n",
      "--------Start Verification--------\n"
     ]
    },
    {
     "name": "stderr",
     "output_type": "stream",
     "text": [
      " 98%|█████████████████████████████████████████▉ | 39/40 [02:49<00:03,  3.47s/it]"
     ]
    },
    {
     "name": "stdout",
     "output_type": "stream",
     "text": [
      "verification_result[\"{'List': ['yes', 'yes', 'yes', 'no', 'yes']}\"]\n",
      "type<class 'list'>\n",
      "verification_dict{'List': ['yes', 'yes', 'yes', 'no', 'yes']}\n",
      "final decisions[True]\n",
      "Final predictions without verification['Risk']\n",
      "Final predictions with verification['Risk']\n",
      "category_list['Risk', 'Risk', 'Risk']\n",
      "--------Start Verification--------\n"
     ]
    },
    {
     "name": "stderr",
     "output_type": "stream",
     "text": [
      "100%|███████████████████████████████████████████| 40/40 [02:53<00:00,  4.35s/it]"
     ]
    },
    {
     "name": "stdout",
     "output_type": "stream",
     "text": [
      "verification_result[\"{'List': ['no', 'no', 'no', 'no', 'no']}\"]\n",
      "type<class 'list'>\n",
      "verification_dict{'List': ['no', 'no', 'no', 'no', 'no']}\n",
      "final decisions[False]\n",
      "Fail verification\n",
      "Final predictions without verification['Risk']\n",
      "Final predictions with verification['unsure']\n"
     ]
    },
    {
     "name": "stderr",
     "output_type": "stream",
     "text": [
      "\n"
     ]
    }
   ],
   "source": [
    "# Run the classification\n",
    "\n",
    "final_predictions_with_verification = []\n",
    "final_unsure_list = []\n",
    "final_predictions_without_verification = []\n",
    "\n",
    "for i in tqdm.trange(len(paragraphs_with_keyword_content_label)):\n",
    "    results= []\n",
    "    if normalize == True:\n",
    "        input_content = normalize_text(paragraphs_with_keyword_content_label[i])\n",
    "    else:\n",
    "        input_content = paragraphs_with_keyword_content_label[i]\n",
    "    for _ in range(times):\n",
    "        completion = client.chat.completions.create(\n",
    "                model= model_version,\n",
    "                messages=[\n",
    "              # System Prompt, see https://platform.openai.com/docs/guides/text-generation/chat-completions-api\n",
    "              {\"role\": \"system\", \"content\": prompt_instru()},\n",
    "              {\"role\": \"user\", \"content\": \"What's the catagory? {'Content': \" + input_content +\"}\"}\n",
    "                ],\n",
    "                temperature = 0.7\n",
    "            )\n",
    "\n",
    "        # Adding generated answers to results\n",
    "        results.append(completion.choices[0].message.content)\n",
    "\n",
    "    prediction_single = process_single_output(results, i, consistency, times)\n",
    "\n",
    "    #List without verification\n",
    "    final_predictions_without_verification.append(prediction_single)\n",
    "    \n",
    "    if verification == True:\n",
    "        if any(pred == \"error\" or pred == \"unsure\" for pred in prediction_single):\n",
    "            final_predictions_with_verification.append(prediction_single)   \n",
    "        else:\n",
    "            prediction_verification = verification_process(prediction_single, verifier_model_version, input_content)\n",
    "            final_predictions_with_verification.append(prediction_verification)\n",
    "        \n",
    "    else:\n",
    "        final_predictions_without_verification.append(prediction_single)\n",
    "\n",
    "    print(\"Final predictions without verification\" + str(final_predictions_without_verification[-1]))\n",
    "    print(\"Final predictions with verification\" + str(final_predictions_with_verification[-1]))"
   ]
  },
  {
   "cell_type": "code",
   "execution_count": 17,
   "id": "6f4fce70-37f8-4cc6-896c-d92a58c01cce",
   "metadata": {},
   "outputs": [
    {
     "name": "stdout",
     "output_type": "stream",
     "text": [
      "Already Output Classification File\n"
     ]
    }
   ],
   "source": [
    "sure_list = []\n",
    "unsure_list = []\n",
    "prediction_input_control = final_predictions_with_verification\n",
    "\n",
    "for n in range(len(prediction_input_control)):\n",
    "    for m in prediction_input_control [n]:\n",
    "        if m == \"unsure\" or m == \"error\":\n",
    "            result_unsure = {\"ID\": material_ID[n], \"page_num_with_keyword\": paragraphs_with_keyword_content_page[n], \"paragraphs_with_keyword\": paragraphs_with_keyword_content_label[n], \"classification\": m}\n",
    "            unsure_list.append(result_unsure)\n",
    "            continue\n",
    "        else:\n",
    "            if not isinstance(prediction_input_control[n], list):\n",
    "                prediction_category = list([prediction_input_control[n].lower().replace('privacy','').strip()])\n",
    "            else:\n",
    "                prediction_category = sorted([i.lower().replace('privacy','').strip() for i in prediction_input_control[n]])\n",
    "            result_sure = {\"ID\": material_ID[n], \"page_num_with_keyword\": paragraphs_with_keyword_content_page[n], \"paragraphs_with_keyword\": paragraphs_with_keyword_content_label[n], \"classification\": prediction_category}\n",
    "            sure_list.append(result_sure)\n",
    "            \n",
    "# Convert sure_list and unsure_list to DataFrames\n",
    "sure_df = pd.DataFrame(sure_list)\n",
    "unsure_df = pd.DataFrame(unsure_list)\n",
    "\n",
    "# Save results to a new Excel file\n",
    "with pd.ExcelWriter(output_file_path, engine='openpyxl') as writer:\n",
    "    sure_df.to_excel(writer, sheet_name='Sure Classification', index=False)\n",
    "    \n",
    "    # Save unsure_list to a new sheet\n",
    "    if not unsure_df.empty:\n",
    "        unsure_df.to_excel(writer, sheet_name='Unsure Classification', index=False)\n",
    "        \n",
    "print(\"Already Output Classification File\")"
   ]
  },
  {
   "cell_type": "code",
   "execution_count": null,
   "id": "f6c27b9b-fd0d-41bf-8724-c7aa6fc9e439",
   "metadata": {},
   "outputs": [],
   "source": []
  },
  {
   "cell_type": "code",
   "execution_count": null,
   "id": "9255c8df-57bb-40f5-a852-1f8edb066322",
   "metadata": {},
   "outputs": [],
   "source": []
  }
 ],
 "metadata": {
  "kernelspec": {
   "display_name": "Python 3 (ipykernel)",
   "language": "python",
   "name": "python3"
  },
  "language_info": {
   "codemirror_mode": {
    "name": "ipython",
    "version": 3
   },
   "file_extension": ".py",
   "mimetype": "text/x-python",
   "name": "python",
   "nbconvert_exporter": "python",
   "pygments_lexer": "ipython3",
   "version": "3.12.4"
  }
 },
 "nbformat": 4,
 "nbformat_minor": 5
}
